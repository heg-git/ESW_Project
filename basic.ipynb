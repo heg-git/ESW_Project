{
 "cells": [
  {
   "cell_type": "markdown",
   "metadata": {},
   "source": [
    "## Display & Joystick의 객체화 및 캐릭터 조종"
   ]
  },
  {
   "cell_type": "markdown",
   "metadata": {},
   "source": [
    "필요한 library import"
   ]
  },
  {
   "cell_type": "code",
   "execution_count": 65,
   "metadata": {},
   "outputs": [],
   "source": [
    "import time\n",
    "import random\n",
    "from colorsys import hsv_to_rgb\n",
    "import board\n",
    "from digitalio import DigitalInOut, Direction\n",
    "from PIL import Image, ImageDraw\n",
    "from adafruit_rgb_display import st7789"
   ]
  },
  {
   "cell_type": "markdown",
   "metadata": {},
   "source": [
    "Joystick이라는 클래스를 만들어, 간단한 모듈화 진행"
   ]
  },
  {
   "cell_type": "code",
   "execution_count": 66,
   "metadata": {},
   "outputs": [],
   "source": [
    "class Joystick:\n",
    "    def __init__(self):\n",
    "        self.cs_pin = DigitalInOut(board.CE0)\n",
    "        self.dc_pin = DigitalInOut(board.D25)\n",
    "        self.reset_pin = DigitalInOut(board.D24)\n",
    "        self.BAUDRATE = 24000000\n",
    "\n",
    "        self.spi = board.SPI()\n",
    "        self.disp = st7789.ST7789(\n",
    "                    self.spi,\n",
    "                    height=240,\n",
    "                    y_offset=80,\n",
    "                    rotation=180,\n",
    "                    cs=self.cs_pin,\n",
    "                    dc=self.dc_pin,\n",
    "                    rst=self.reset_pin,\n",
    "                    baudrate=self.BAUDRATE,\n",
    "                    )\n",
    "\n",
    "        # Input pins:\n",
    "        self.button_A = DigitalInOut(board.D5)\n",
    "        self.button_A.direction = Direction.INPUT\n",
    "\n",
    "        self.button_B = DigitalInOut(board.D6)\n",
    "        self.button_B.direction = Direction.INPUT\n",
    "\n",
    "        self.button_L = DigitalInOut(board.D27)\n",
    "        self.button_L.direction = Direction.INPUT\n",
    "\n",
    "        self.button_R = DigitalInOut(board.D23)\n",
    "        self.button_R.direction = Direction.INPUT\n",
    "\n",
    "        self.button_U = DigitalInOut(board.D17)\n",
    "        self.button_U.direction = Direction.INPUT\n",
    "\n",
    "        self.button_D = DigitalInOut(board.D22)\n",
    "        self.button_D.direction = Direction.INPUT\n",
    "\n",
    "        self.button_C = DigitalInOut(board.D4)\n",
    "        self.button_C.direction = Direction.INPUT\n",
    "\n",
    "        # Turn on the Backlight\n",
    "        self.backlight = DigitalInOut(board.D26)\n",
    "        self.backlight.switch_to_output()\n",
    "        self.backlight.value = True\n",
    "\n",
    "        # Create blank image for drawing.\n",
    "        # Make sure to create image with mode 'RGB' for color.\n",
    "        self.width = self.disp.width\n",
    "        self.height = self.disp.height"
   ]
  },
  {
   "cell_type": "markdown",
   "metadata": {},
   "source": [
    "joystick 객체 선언"
   ]
  },
  {
   "cell_type": "code",
   "execution_count": 67,
   "metadata": {},
   "outputs": [],
   "source": [
    "joystick = Joystick()"
   ]
  },
  {
   "cell_type": "code",
   "execution_count": 68,
   "metadata": {},
   "outputs": [],
   "source": [
    "map=Image.open(\"./res/map.png\").resize((240,240))\n",
    "character=Image.open(\"./res/ch_1_right.png\").resize((25,25))\n",
    "map.paste(character,(40,40,65,65),character)\n",
    "joystick.disp.image(map)"
   ]
  },
  {
   "cell_type": "markdown",
   "metadata": {},
   "source": [
    "## 캐릭터 만들기"
   ]
  },
  {
   "cell_type": "markdown",
   "metadata": {},
   "source": [
    "간단한 모양(네모, 동그라미, ..)을 가지고 조종할 수 있는 캐릭터를 만들어보기\n",
    "- 기능 -> 움직이기, 움직일때는 빨간 테두리를, 가만히 있을 때는 하얀 테두리를 가지게 할 것"
   ]
  },
  {
   "cell_type": "code",
   "execution_count": 69,
   "metadata": {},
   "outputs": [],
   "source": [
    "import numpy as np\n",
    "class Character:\n",
    "    def __init__(self):\n",
    "        self.appearance = \"character\"\n",
    "        self.state = None\n",
    "        self.position = [15, 210, 40, 235]\n",
    "        self.size = (25,25)\n",
    "        self.image = Image.open(\"./res/ch_1_right.png\").resize(self.size)\n",
    "        self.flag = 0\n",
    "        self.count = 0\n",
    "        self.direction = \"right\"\n",
    "        self.gravity=9\n",
    "\n",
    "    def move(self, command):\n",
    "    #     if command == \"up\":\n",
    "    #         self.position[1] -= 5\n",
    "    #         self.position[3] -= 5\n",
    "\n",
    "    #     elif command == \"down\":\n",
    "    #         self.position[1] += 5\n",
    "    #         self.position[3] += 5\n",
    "\n",
    "        if command == \"left\":\n",
    "            self.direction = \"left\"\n",
    "            self.flag = 0 if self.flag else 1\n",
    "            if self.flag:\n",
    "                self.image = Image.open(\"./res/ch_1_left.png\").resize(self.size)\n",
    "            else:\n",
    "                self.image = Image.open(\"./res/ch_2_left.png\").resize(self.size)\n",
    "            self.position[0] -= 5\n",
    "            self.position[2] -= 5\n",
    "                \n",
    "        elif command == \"right\":\n",
    "            self.direction = \"right\"\n",
    "            self.flag = 0 if self.flag else 1\n",
    "            if self.flag:\n",
    "                self.image = Image.open(\"./res/ch_1_right.png\").resize(self.size)\n",
    "            else:\n",
    "                self.image = Image.open(\"./res/ch_2_right.png\").resize(self.size)\n",
    "            self.position[0] += 5\n",
    "            self.position[2] += 5\n",
    "\n",
    "    def jump(self):\n",
    "        if self.count < 8:\n",
    "            if self.direction==\"right\":\n",
    "                self.image = Image.open(\"./res/ch_r_j.png\").resize(self.size)\n",
    "            else:\n",
    "                self.image = Image.open(\"./res/ch_l_j.png\").resize(self.size)\n",
    "            \n",
    "            self.position[1] -= self.gravity\n",
    "            self.position[3] -= self.gravity\n",
    "            self.gravity -= 1\n",
    "            self.count += 1\n",
    "\n",
    "\n",
    "        elif self.count < 16:\n",
    "            if self.direction==\"right\":\n",
    "                self.image = Image.open(\"./res/ch_r_d.png\").resize(self.size)\n",
    "            else:\n",
    "                self.image = Image.open(\"./res/ch_l_d.png\").resize(self.size)\n",
    "            \n",
    "            self.gravity += 1\n",
    "            self.position[1] += self.gravity\n",
    "            self.position[3] += self.gravity\n",
    "            self.count+=1\n",
    "\n",
    "        else:\n",
    "            if self.direction==\"right\":\n",
    "                self.image = Image.open(\"./res/ch_1_right.png\").resize(self.size)\n",
    "            else:\n",
    "                self.image = Image.open(\"./res/ch_1_left.png\").resize(self.size)\n",
    "            self.count=0\n",
    "            self.state = None\n",
    "        \n",
    "    def attack(self):\n",
    "        if self.direction==\"right\":\n",
    "                self.image = Image.open(\"./res/ch_a_r.png\").resize(self.size)\n",
    "        else:\n",
    "            self.image = Image.open(\"./res/ch_a_l.png\").resize(self.size)\n",
    "\n",
    "        \n",
    "        \n",
    "\n",
    "\n",
    "\n",
    "\n",
    "\n"
   ]
  },
  {
   "cell_type": "code",
   "execution_count": 70,
   "metadata": {},
   "outputs": [
    {
     "ename": "KeyboardInterrupt",
     "evalue": "",
     "output_type": "error",
     "traceback": [
      "\u001b[0;31m---------------------------------------------------------------------------\u001b[0m",
      "\u001b[0;31mKeyboardInterrupt\u001b[0m                         Traceback (most recent call last)",
      "Cell \u001b[0;32mIn [70], line 29\u001b[0m\n\u001b[1;32m     25\u001b[0m     character\u001b[39m.\u001b[39mattack()\n\u001b[1;32m     28\u001b[0m my_map\u001b[39m.\u001b[39mpaste(character\u001b[39m.\u001b[39mimage, character\u001b[39m.\u001b[39mposition, character\u001b[39m.\u001b[39mimage)\n\u001b[0;32m---> 29\u001b[0m joystick\u001b[39m.\u001b[39;49mdisp\u001b[39m.\u001b[39;49mimage(my_map)\n",
      "File \u001b[0;32m/usr/local/lib/python3.9/dist-packages/adafruit_rgb_display/rgb.py:197\u001b[0m, in \u001b[0;36mDisplay.image\u001b[0;34m(self, img, rotation, x, y)\u001b[0m\n\u001b[1;32m    195\u001b[0m             pixels[\u001b[39m2\u001b[39m \u001b[39m*\u001b[39m (j \u001b[39m*\u001b[39m imwidth \u001b[39m+\u001b[39m i)] \u001b[39m=\u001b[39m pix \u001b[39m>>\u001b[39m \u001b[39m8\u001b[39m\n\u001b[1;32m    196\u001b[0m             pixels[\u001b[39m2\u001b[39m \u001b[39m*\u001b[39m (j \u001b[39m*\u001b[39m imwidth \u001b[39m+\u001b[39m i) \u001b[39m+\u001b[39m \u001b[39m1\u001b[39m] \u001b[39m=\u001b[39m pix \u001b[39m&\u001b[39m \u001b[39m0xFF\u001b[39m\n\u001b[0;32m--> 197\u001b[0m \u001b[39mself\u001b[39;49m\u001b[39m.\u001b[39;49m_block(x, y, x \u001b[39m+\u001b[39;49m imwidth \u001b[39m-\u001b[39;49m \u001b[39m1\u001b[39;49m, y \u001b[39m+\u001b[39;49m imheight \u001b[39m-\u001b[39;49m \u001b[39m1\u001b[39;49m, pixels)\n",
      "File \u001b[0;32m/usr/local/lib/python3.9/dist-packages/adafruit_rgb_display/rgb.py:142\u001b[0m, in \u001b[0;36mDisplay._block\u001b[0;34m(self, x0, y0, x1, y1, data)\u001b[0m\n\u001b[1;32m    140\u001b[0m     size \u001b[39m=\u001b[39m struct\u001b[39m.\u001b[39mcalcsize(\u001b[39mself\u001b[39m\u001b[39m.\u001b[39m_DECODE_PIXEL)\n\u001b[1;32m    141\u001b[0m     \u001b[39mreturn\u001b[39;00m \u001b[39mself\u001b[39m\u001b[39m.\u001b[39mread(\u001b[39mself\u001b[39m\u001b[39m.\u001b[39m_RAM_READ, (x1 \u001b[39m-\u001b[39m x0 \u001b[39m+\u001b[39m \u001b[39m1\u001b[39m) \u001b[39m*\u001b[39m (y1 \u001b[39m-\u001b[39m y0 \u001b[39m+\u001b[39m \u001b[39m1\u001b[39m) \u001b[39m*\u001b[39m size)\n\u001b[0;32m--> 142\u001b[0m \u001b[39mself\u001b[39;49m\u001b[39m.\u001b[39;49mwrite(\u001b[39mself\u001b[39;49m\u001b[39m.\u001b[39;49m_RAM_WRITE, data)\n\u001b[1;32m    143\u001b[0m \u001b[39mreturn\u001b[39;00m \u001b[39mNone\u001b[39;00m\n",
      "File \u001b[0;32m/usr/local/lib/python3.9/dist-packages/adafruit_rgb_display/rgb.py:294\u001b[0m, in \u001b[0;36mDisplaySPI.write\u001b[0;34m(self, command, data)\u001b[0m\n\u001b[1;32m    292\u001b[0m \u001b[39mself\u001b[39m\u001b[39m.\u001b[39mdc_pin\u001b[39m.\u001b[39mvalue \u001b[39m=\u001b[39m \u001b[39m1\u001b[39m\n\u001b[1;32m    293\u001b[0m \u001b[39mwith\u001b[39;00m \u001b[39mself\u001b[39m\u001b[39m.\u001b[39mspi_device \u001b[39mas\u001b[39;00m spi:\n\u001b[0;32m--> 294\u001b[0m     spi\u001b[39m.\u001b[39;49mwrite(data)\n",
      "File \u001b[0;32m/usr/local/lib/python3.9/dist-packages/busio.py:386\u001b[0m, in \u001b[0;36mSPI.write\u001b[0;34m(self, buf, start, end)\u001b[0m\n\u001b[1;32m    384\u001b[0m \u001b[39mdef\u001b[39;00m \u001b[39mwrite\u001b[39m(\u001b[39mself\u001b[39m, buf, start\u001b[39m=\u001b[39m\u001b[39m0\u001b[39m, end\u001b[39m=\u001b[39m\u001b[39mNone\u001b[39;00m):\n\u001b[1;32m    385\u001b[0m     \u001b[39m\"\"\"Write to the SPI device\"\"\"\u001b[39;00m\n\u001b[0;32m--> 386\u001b[0m     \u001b[39mreturn\u001b[39;00m \u001b[39mself\u001b[39;49m\u001b[39m.\u001b[39;49m_spi\u001b[39m.\u001b[39;49mwrite(buf, start, end)\n",
      "File \u001b[0;32m/usr/local/lib/python3.9/dist-packages/adafruit_blinka/microcontroller/generic_linux/spi.py:86\u001b[0m, in \u001b[0;36mSPI.write\u001b[0;34m(self, buf, start, end)\u001b[0m\n\u001b[1;32m     84\u001b[0m     \u001b[39mself\u001b[39m\u001b[39m.\u001b[39m_spi\u001b[39m.\u001b[39mmode \u001b[39m=\u001b[39m \u001b[39mself\u001b[39m\u001b[39m.\u001b[39mmode\n\u001b[1;32m     85\u001b[0m     \u001b[39mself\u001b[39m\u001b[39m.\u001b[39m_spi\u001b[39m.\u001b[39mbits_per_word \u001b[39m=\u001b[39m \u001b[39mself\u001b[39m\u001b[39m.\u001b[39mbits\n\u001b[0;32m---> 86\u001b[0m     \u001b[39mself\u001b[39;49m\u001b[39m.\u001b[39;49m_spi\u001b[39m.\u001b[39;49mwritebytes(buf[start:end])\n\u001b[1;32m     87\u001b[0m     \u001b[39m# self._spi.close()\u001b[39;00m\n\u001b[1;32m     88\u001b[0m \u001b[39mexcept\u001b[39;00m \u001b[39mFileNotFoundError\u001b[39;00m:\n",
      "File \u001b[0;32m/usr/local/lib/python3.9/dist-packages/Adafruit_PureIO/spi.py:370\u001b[0m, in \u001b[0;36mSPI.writebytes\u001b[0;34m(self, data, max_speed_hz, bits_per_word, delay)\u001b[0m\n\u001b[1;32m    356\u001b[0m spi_ioc_transfer \u001b[39m=\u001b[39m struct\u001b[39m.\u001b[39mpack(\n\u001b[1;32m    357\u001b[0m     SPI\u001b[39m.\u001b[39m_IOC_TRANSFER_FORMAT,\n\u001b[1;32m    358\u001b[0m     addressof(transmit_buffer),\n\u001b[0;32m   (...)\u001b[0m\n\u001b[1;32m    367\u001b[0m     \u001b[39m0\u001b[39m,\n\u001b[1;32m    368\u001b[0m )\n\u001b[1;32m    369\u001b[0m \u001b[39mtry\u001b[39;00m:\n\u001b[0;32m--> 370\u001b[0m     ioctl(\u001b[39mself\u001b[39;49m\u001b[39m.\u001b[39;49mhandle, SPI\u001b[39m.\u001b[39;49m_IOC_MESSAGE, spi_ioc_transfer)\n\u001b[1;32m    371\u001b[0m \u001b[39mexcept\u001b[39;00m \u001b[39mTimeoutError\u001b[39;00m \u001b[39mas\u001b[39;00m e:\n\u001b[1;32m    372\u001b[0m     \u001b[39mraise\u001b[39;00m \u001b[39mException\u001b[39;00m(\n\u001b[1;32m    373\u001b[0m         \u001b[39m\"\u001b[39m\u001b[39mioctl timeout. Please try a different SPI frequency or less data.\u001b[39m\u001b[39m\"\u001b[39m\n\u001b[1;32m    374\u001b[0m     ) \u001b[39mfrom\u001b[39;00m \u001b[39me\u001b[39;00m\n",
      "\u001b[0;31mKeyboardInterrupt\u001b[0m: "
     ]
    }
   ],
   "source": [
    "# 잔상이 남지 않는 코드\n",
    "character = Character()\n",
    "\n",
    "map = Image.open(\"./res/map2.png\").resize((240,240))\n",
    "while True:\n",
    "    my_map=map.copy()\n",
    "    # if not joystick.button_U.value:  # up pressed\n",
    "    #     character.move('up')\n",
    "\n",
    "    # if not joystick.button_D.value:  # down pressed\n",
    "    #     character.move('down')\n",
    "\n",
    "    if not joystick.button_L.value:  # left pressed\n",
    "        character.move('left')\n",
    "\n",
    "    if not joystick.button_R.value:  # right pressed\n",
    "        character.move('right')\n",
    "\n",
    "    if not joystick.button_B.value:\n",
    "        character.state = 'jump'\n",
    "\n",
    "    if character.state == 'jump':\n",
    "        character.jump()\n",
    "        \n",
    "    if not joystick.button_A.value:  # right pressed\n",
    "        character.attack()\n",
    "        \n",
    "\n",
    "    \n",
    "    my_map.paste(character.image, character.position, character.image)\n",
    "    joystick.disp.image(my_map)"
   ]
  },
  {
   "cell_type": "code",
   "execution_count": null,
   "metadata": {},
   "outputs": [],
   "source": []
  }
 ],
 "metadata": {
  "kernelspec": {
   "display_name": "Python 3.9.2 32-bit",
   "language": "python",
   "name": "python3"
  },
  "language_info": {
   "codemirror_mode": {
    "name": "ipython",
    "version": 3
   },
   "file_extension": ".py",
   "mimetype": "text/x-python",
   "name": "python",
   "nbconvert_exporter": "python",
   "pygments_lexer": "ipython3",
   "version": "3.9.2"
  },
  "orig_nbformat": 4,
  "vscode": {
   "interpreter": {
    "hash": "e7370f93d1d0cde622a1f8e1c04877d8463912d04d973331ad4851f04de6915a"
   }
  }
 },
 "nbformat": 4,
 "nbformat_minor": 2
}
